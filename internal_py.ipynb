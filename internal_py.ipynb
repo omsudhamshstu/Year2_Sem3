{
 "cells": [
  {
   "cell_type": "code",
   "execution_count": null,
   "metadata": {
    "id": "AE78wfu3IAjx"
   },
   "outputs": [],
   "source": [
    "#1. Start a Python interpreter and use it as a Calculator.\n",
    "\n",
    "# Python program for simple calculator\n",
    "\n",
    "# Function to add two numbers\n",
    "def add(num1, num2):\n",
    "    return num1 + num2\n",
    "\n",
    "# Function to subtract two numbers\n",
    "def subtract(num1, num2):\n",
    "    return num1 - num2\n",
    "\n",
    "# Function to multiply two numbers\n",
    "def multiply(num1, num2):\n",
    "    return num1 * num2\n",
    "\n",
    "# Function to divide two numbers\n",
    "def divide(num1, num2):\n",
    "    return num1 / num2\n",
    "\n",
    "print(\"Please select operation -\\n\" \\\n",
    "        \"1. Add\\n\" \\\n",
    "        \"2. Subtract\\n\" \\\n",
    "        \"3. Multiply\\n\" \\\n",
    "        \"4. Divide\\n\")\n",
    "\n",
    "\n",
    "# Take input from the user\n",
    "select = int(input(\"Select operations form 1, 2, 3, 4 :\"))\n",
    "\n",
    "number_1 = int(input(\"Enter first number: \"))\n",
    "number_2 = int(input(\"Enter second number: \"))\n",
    "\n",
    "if select == 1:\n",
    "    print(number_1, \"+\", number_2, \"=\",\n",
    "                    add(number_1, number_2))\n",
    "\n",
    "elif select == 2:\n",
    "    print(number_1, \"-\", number_2, \"=\",\n",
    "                    subtract(number_1, number_2))\n",
    "\n",
    "elif select == 3:\n",
    "    print(number_1, \"*\", number_2, \"=\",\n",
    "                    multiply(number_1, number_2))\n",
    "\n",
    "elif select == 4:\n",
    "    print(number_1, \"/\", number_2, \"=\",\n",
    "                    divide(number_1, number_2))\n",
    "else:\n",
    "    print(\"Invalid input\")"
   ]
  },
  {
   "cell_type": "code",
   "execution_count": 2,
   "metadata": {
    "id": "hXvQJe20Im8i"
   },
   "outputs": [],
   "source": [
    "# . i) Write a program to calculate compound interest when principal, rate and number of periods are given.\n",
    "\n",
    "def calculate_compound_interest(principal, rate, periods):\n",
    "    amount = principal * (1 + rate / 100) ** periods\n",
    "    return amount - principal  # Compound Interest\n",
    "\n",
    "principal = 1000\n",
    "rate = 5\n",
    "periods = 2\n",
    "\n",
    "ci = calculate_compound_interest(principal, rate, periods)\n",
    "print(f\"Compound Interest: {ci:.2f}\")\n"
   ]
  },
  {
   "cell_type": "code",
   "execution_count": null,
   "metadata": {
    "id": "NvaByT2KJGO2"
   },
   "outputs": [],
   "source": [
    "# ii) Given coordinates (x1, y1), (x2, y2) find the distance between two points\n",
    "import math\n",
    "\n",
    "def distance(x1, y1, x2, y2):\n",
    "    return math.sqrt((x2 - x1) ** 2 + (y2 - y1) ** 2)\n",
    "\n",
    "x1, y1 = 0, 0\n",
    "x2, y2 = 3, 4\n",
    "\n",
    "dist = distance(x1, y1, x2, y2)\n",
    "print(f\"Distance: {dist:.2f}\")\n"
   ]
  },
  {
   "cell_type": "code",
   "execution_count": null,
   "metadata": {
    "id": "w4ezu44JJNuk"
   },
   "outputs": [],
   "source": [
    "# 3. Read name, address, email and phone number of a person through keyboard and print the details.\n",
    "name = input(\"Enter name: \")\n",
    "address = input(\"Enter address: \")\n",
    "email = input(\"Enter email: \")\n",
    "phone = input(\"Enter phone number: \")\n",
    "\n",
    "print(\"\\nDetails:\")\n",
    "print(f\"Name: {name}\")\n",
    "print(f\"Address: {address}\")\n",
    "print(f\"Email: {email}\")\n",
    "print(f\"Phone: {phone}\")"
   ]
  },
  {
   "cell_type": "code",
   "execution_count": 3,
   "metadata": {
    "id": "grqTnT5lJpWm"
   },
   "outputs": [],
   "source": [
    "# 4. Print the below triangle using for loop.\n",
    "# 5\n",
    "# 4 4\n",
    "# 3 3 3\n",
    "# 2 2 2 2\n",
    "# 1 1 1 1 1\n",
    "for i in range(5, 0, -1):\n",
    "    print(f\"{i} \" * (6 - i))\n"
   ]
  },
  {
   "cell_type": "code",
   "execution_count": null,
   "metadata": {
    "id": "6z8fwMAOJshf"
   },
   "outputs": [],
   "source": [
    "# 5. Write a program to check whether the given input is digit or lowercase character or upper case character\n",
    "# or a special character (use 'if-else-if' ladder)\n",
    "\n",
    "char = input(\"Enter a character: \")\n",
    "\n",
    "if char.isdigit():\n",
    "    print(\"The input is a digit.\")\n",
    "elif char.islower():\n",
    "    print(\"The input is a lowercase character.\")\n",
    "elif char.isupper():\n",
    "    print(\"The input is an uppercase character.\")\n",
    "else:\n",
    "    print(\"The input is a special character.\")\n"
   ]
  },
  {
   "cell_type": "code",
   "execution_count": null,
   "metadata": {
    "id": "z4ZthmFiKOUx"
   },
   "outputs": [],
   "source": [
    "# 6. Python Program to Print the Fibonacci sequence using while loop\n",
    "n = int(input(\"Enter the number of terms: \"))\n",
    "\n",
    "a, b = 0, 1\n",
    "count = 0\n",
    "\n",
    "print(\"Fibonacci sequence:\")\n",
    "while count < n:\n",
    "    print(a, end=\" \")\n",
    "    a, b = b, a + b  # Update terms\n",
    "    count += 1\n"
   ]
  },
  {
   "cell_type": "code",
   "execution_count": null,
   "metadata": {
    "id": "ee2N3qVqKf8b"
   },
   "outputs": [],
   "source": [
    "# 7. Python program to print all prime numbers in a given interval (use break)\n",
    "start = int(input(\"Enter the start of the interval: \"))\n",
    "end = int(input(\"Enter the end of the interval: \"))\n",
    "\n",
    "print(f\"Prime numbers between {start} and {end} are:\")\n",
    "for num in range(start, end + 1):\n",
    "    if num > 1:  # Prime > 1\n",
    "        for i in range(2, int(num ** 0.5) + 1):\n",
    "            if num % i == 0:\n",
    "                break\n",
    "        else:\n",
    "            print(num, end=\" \")\n"
   ]
  },
  {
   "cell_type": "code",
   "execution_count": null,
   "metadata": {
    "id": "s9el7NvxKw50"
   },
   "outputs": [],
   "source": [
    "# 8. Write a program to convert a list and tuple into arrays.\n",
    "mylist = [1, 2, 3, 4, 5]\n",
    "mytuple = (6, 7, 8, 9, 10)\n",
    "\n",
    "arrayfromlist = list(mylist)\n",
    "arrayfromtuple = list(mytuple)\n",
    "\n",
    "print(\"Array from list:\", arrayfromlist)\n",
    "print(\"Array from tuple:\", arrayfromtuple)"
   ]
  },
  {
   "cell_type": "code",
   "execution_count": null,
   "metadata": {
    "id": "ITTMgGA6LW5o"
   },
   "outputs": [],
   "source": [
    "# 9. Write a function called gcd that takes parameters a and b and returns their greatest common divisor.\n",
    "def gcd(a, b):\n",
    "    while b:\n",
    "        a, b = b, a % b\n",
    "    return a\n",
    "\n",
    "num1 = int(input(\"Enter the first number: \"))\n",
    "num2 = int(input(\"Enter the second number: \"))\n",
    "\n",
    "print(f\"The GCD of {num1} and {num2} is {gcd(num1, num2)}\")"
   ]
  },
  {
   "cell_type": "code",
   "execution_count": null,
   "metadata": {
    "id": "C0nFIV6kMKO6"
   },
   "outputs": [],
   "source": [
    "# 10. Write a function called palindrome that takes a string argument and returns True if it is a palindrome\n",
    "# and False otherwise. Remember that you can use the built-in function len to check the length of a string.\n",
    "def palindrome(s):\n",
    "    return s == s[::-1]\n",
    "\n",
    "s = input(\"Enter a string: \")\n",
    "\n",
    "print(palindrome(s))"
   ]
  },
  {
   "cell_type": "code",
   "execution_count": null,
   "metadata": {
    "id": "dKKV0h54MNv3"
   },
   "outputs": [],
   "source": [
    "# 11. Write a function called is sorted that takes a list as a parameter and returns True if the list is sorted in\n",
    "# ascending order and False otherwise.\n",
    "def is_sorted(lst):\n",
    "    return lst == sorted(lst)\n",
    "\n",
    "lst = [int(x) for x in input(\"Enter a list of numbers (space-separated): \").split()]\n",
    "\n",
    "print(is_sorted(lst))"
   ]
  },
  {
   "cell_type": "code",
   "execution_count": null,
   "metadata": {
    "id": "tp-f8cOLMgd-"
   },
   "outputs": [],
   "source": [
    "# 11. (or use this code)\n",
    "def is_sorted(arr):\n",
    "    return arr == sorted(arr)\n",
    "print(is_sorted([1, 2, 3, 4, 5]))"
   ]
  },
  {
   "cell_type": "code",
   "execution_count": null,
   "metadata": {
    "id": "tJ9byVIRMzVl"
   },
   "outputs": [],
   "source": [
    "# 12. Write a function called has duplicates that takes a list and returns True if there is any element that\n",
    "# appears more than once. It should not modify the original list.\n",
    "def has_duplicates(arr):\n",
    "    return len(arr) != len(set(arr))\n",
    "print(has_duplicates([1, 2, 2, 3, 4]))\n",
    "print(has_duplicates([1, 2, 3, 4, 4]))"
   ]
  },
  {
   "cell_type": "code",
   "execution_count": 2,
   "metadata": {
    "id": "959N4ChYM5oF"
   },
   "outputs": [
    {
     "name": "stdout",
     "output_type": "stream",
     "text": [
      "Original\n",
      "[1, 2, 2, 3, 4, 4, 5, 6, 6]\n",
      "[1, 2, 3, 4, 5, 6]\n"
     ]
    }
   ],
   "source": [
    "# i). Write a function called remove duplicates that takes a list and returns a new list with only the unique\n",
    "# elements from the original. Hint: they don’t have to be in the same order.\n",
    "def remove_duplicates(arr):\n",
    "    return list(set(arr))\n",
    "original_arr = [1, 2, 2, 3, 4, 4, 5, 6, 6]\n",
    "unique_arr = remove_duplicates(original_arr)\n",
    "print(\"Original\")\n",
    "print(f\"{original_arr}\")\n",
    "print(unique_arr)"
   ]
  },
  {
   "cell_type": "code",
   "execution_count": null,
   "metadata": {
    "id": "iAs3Nrg2OCQN"
   },
   "outputs": [],
   "source": [
    "# ii). Write a GUI program to create a window wizard having two text labels, two text fields and two buttons\n",
    "# as Submit and Reset.\n",
    "import tkinter as tk\n",
    "\n",
    "def submit_action():\n",
    "    label_result.config(text=f\"Submitted: {entry_name.get()}, {entry_email.get()}\")\n",
    "\n",
    "# Function to handle Reset button click\n",
    "def reset_action():\n",
    "    entry_name.delete(0, tk.END)\n",
    "    entry_email.delete(0, tk.END)\n",
    "    label_result.config(text=\"\")\n",
    "\n",
    "# Create the main window\n",
    "root = tk.Tk()\n",
    "root.title(\"Window Wizard\")\n",
    "\n",
    "# Create and place the first label and text field (Name)\n",
    "label_name = tk.Label(root, text=\"Name:\")\n",
    "label_name.grid(row=0, column=0, padx=10, pady=10)\n",
    "entry_name = tk.Entry(root)\n",
    "entry_name.grid(row=0, column=1, padx=10, pady=10)\n",
    "\n",
    "# Create and place the second label and text field (Email)\n",
    "label_email = tk.Label(root, text=\"Email:\")\n",
    "label_email.grid(row=1, column=0, padx=10, pady=10)\n",
    "entry_email = tk.Entry(root)\n",
    "entry_email.grid(row=1, column=1, padx=10, pady=10)\n",
    "\n",
    "# Create and place the Submit button\n",
    "submit_button = tk.Button(root, text=\"Submit\", command=submit_action)\n",
    "submit_button.grid(row=2, column=0, padx=10, pady=10)\n",
    "\n",
    "# Create and place the Reset button\n",
    "reset_button = tk.Button(root, text=\"Reset\", command=reset_action)\n",
    "reset_button.grid(row=2, column=1, padx=10, pady=10)\n",
    "\n",
    "# Label to display results\n",
    "label_result = tk.Label(root, text=\"\")\n",
    "label_result.grid(row=3, column=0, columnspan=2, padx=10, pady=10)\n",
    "\n",
    "# Start the Tkinter event loop\n",
    "root.mainloop()"
   ]
  },
  {
   "cell_type": "code",
   "execution_count": null,
   "metadata": {
    "id": "DzJkWNUaOJYy"
   },
   "outputs": [],
   "source": [
    "# iii). Write a python code to read dictionary values from the user. Construct a function to invert its content.\n",
    "# i.e., keys should be values and values should be keys.\n",
    "def invert_dict(d):\n",
    "    return {v: k for k, v in d.items()}\n",
    "\n",
    "# Reading dictionary from user\n",
    "n = int(input(\"Enter the number of key-value pairs: \"))\n",
    "user_dict = {}\n",
    "for _ in range(n):\n",
    "    key = input(\"Enter key: \")\n",
    "    value = input(\"Enter value: \")\n",
    "    user_dict[key] = value\n",
    "\n",
    "# Inverting the dictionary\n",
    "inverted_dict = invert_dict(user_dict)\n",
    "print(\"Inverted Dictionary:\", inverted_dict)"
   ]
  },
  {
   "cell_type": "code",
   "execution_count": null,
   "metadata": {
    "id": "rh5Gp4vQOaPu"
   },
   "outputs": [],
   "source": [
    "# 13. i) Add a comma between the characters. If the given word is 'Apple', it should become 'A,p,p,l,e'\n",
    "def add_commas(input_string):\n",
    "    return ','.join(input_string)\n",
    "\n",
    "input_str = \"hello\"\n",
    "print(add_commas(input_str))"
   ]
  },
  {
   "cell_type": "code",
   "execution_count": null,
   "metadata": {
    "id": "OeViCUR_Omg4"
   },
   "outputs": [],
   "source": [
    "# ii) Remove the given word in all the places in a string?\n",
    "def remove_word(string, word):\n",
    "    return string.replace(word, \"\")\n",
    "\n",
    "input_string = input(\"Enter a string: \")\n",
    "word_to_remove = input(\"Enter the word to remove: \")\n",
    "\n",
    "result = remove_word(input_string, word_to_remove)\n",
    "print(\"Updated String:\", result)\n"
   ]
  },
  {
   "cell_type": "code",
   "execution_count": null,
   "metadata": {
    "id": "8G3ZpttBO9-B"
   },
   "outputs": [],
   "source": [
    "# iii) Write a function that takes a sentence as an input parameter and replaces the first letter of every word\n",
    "# with the corresponding upper case letter and the rest of the letters in the word by corresponding letters in\n",
    "# lower case without using a built-in function?\n",
    "\n",
    "def capitalize_sentence(sentence):\n",
    "    words = sentence.split()  # Split sentence into words\n",
    "    result = []\n",
    "\n",
    "    for word in words:\n",
    "        # Capitalize the first letter and make the rest lowercase\n",
    "        first_letter = word[0].upper()\n",
    "        rest_of_word = word[1:].lower()\n",
    "        result.append(first_letter + rest_of_word)\n",
    "\n",
    "    # Join the words back into a sentence\n",
    "    return ' '.join(result)\n",
    "\n",
    "# Example usage\n",
    "sentence = input(\"Enter a sentence: \")\n",
    "capitalized_sentence = capitalize_sentence(sentence)\n",
    "print(\"Capitalized Sentence:\", capitalized_sentence)"
   ]
  },
  {
   "cell_type": "code",
   "execution_count": null,
   "metadata": {
    "id": "pOn0pcmpPP-2"
   },
   "outputs": [],
   "source": [
    "#14. i)Write a python program that defines a matrix and prints\n",
    "matrix = [\n",
    "    [1, 2, 3],\n",
    "    [4, 5, 6],\n",
    "    [7, 8, 9]\n",
    "]\n",
    "\n",
    "for row in matrix:\n",
    "  print(row)"
   ]
  },
  {
   "cell_type": "code",
   "execution_count": null,
   "metadata": {
    "id": "EI6z4KRnPiz-"
   },
   "outputs": [],
   "source": [
    "# ii) Write a python program to perform addition of two square matrices\n",
    "matrix1 = [\n",
    "    [1, 2],\n",
    "    [3, 4]\n",
    "]\n",
    "\n",
    "matrix2 = [\n",
    "    [5, 6],\n",
    "    [7, 8]\n",
    "]\n",
    "\n",
    "result = [[0, 0], [0, 0]]\n",
    "\n",
    "for i in range(2):\n",
    "    for j in range(2):\n",
    "        result[i][j] = matrix1[i][j] + matrix2[i][j]\n",
    "\n",
    "for row in result:\n",
    "    print(row)"
   ]
  },
  {
   "cell_type": "code",
   "execution_count": null,
   "metadata": {
    "id": "y6olAzWjPpsx"
   },
   "outputs": [],
   "source": [
    "# ii) (or)\n",
    "import numpy as np\n",
    "\n",
    "matrix1 = np.array([[1, 2], [3, 4]])\n",
    "matrix2 = np.array([[5, 6], [7, 8]])\n",
    "\n",
    "result = np.add(matrix1, matrix2)\n",
    "\n",
    "print(\"Matrix 1:\\n\", matrix1)\n",
    "print(\"Matrix 2:\\n\", matrix2)\n",
    "print(\"Resultant Matrix after addition:\\n\", result)"
   ]
  },
  {
   "cell_type": "code",
   "execution_count": null,
   "metadata": {
    "id": "6lzLF8-4P0co"
   },
   "outputs": [],
   "source": [
    "# iii) Write a python program to perform multiplication of two square matrices\n",
    "import numpy as np\n",
    "\n",
    "matrix1 = np.array([[1, 2], [3, 4]])\n",
    "matrix2 = np.array([[5, 6], [7, 8]])\n",
    "\n",
    "result = np.matmul(matrix1, matrix2)\n",
    "\n",
    "print(\"Product of matrices:\\n\", result)"
   ]
  },
  {
   "cell_type": "code",
   "execution_count": 6,
   "metadata": {
    "id": "uhBHum3tQF08"
   },
   "outputs": [],
   "source": [
    "# 15. How do you make a module? Give an example of construction of a module using different\n",
    "# geometricalshapes and operations on them as its functions.\n",
    "# geometrical_shapes.py\n",
    "\n",
    "import math\n",
    "\n",
    "class Circle:\n",
    "    def __init__(self, radius):\n",
    "        self.radius = radius\n",
    "\n",
    "    def area(self):\n",
    "        return math.pi * self.radius**2\n",
    "\n",
    "    def circumference(self):\n",
    "        return 2 * math.pi * self.radius\n",
    "\n",
    "\n",
    "class Rectangle:\n",
    "    def __init__(self, length, width):\n",
    "        self.length = length\n",
    "        self.width = width\n",
    "\n",
    "    def area(self):\n",
    "        return self.length * self.width\n",
    "\n",
    "    def perimeter(self):\n",
    "        return 2 * (self.length + self.width)\n",
    "\n",
    "\n",
    "class Triangle:\n",
    "    def __init__(self, base, height):\n",
    "        self.base = base\n",
    "        self.height = height\n",
    "\n",
    "    def area(self):\n",
    "        return 0.5 * self.base * self.height"
   ]
  },
  {
   "cell_type": "code",
   "execution_count": null,
   "metadata": {
    "id": "EWel8ajeQW7W"
   },
   "outputs": [],
   "source": [
    "#16. Exception Handling\n",
    "try:\n",
    "  # Code that might raise an exception\n",
    "  result = 10 / 0  # Example: Division by zero\n",
    "except Exception as e:\n",
    "  print(f\"An error occurred: {e}\")"
   ]
  },
  {
   "cell_type": "code",
   "execution_count": null,
   "metadata": {
    "id": "3wqhko1wQdOK"
   },
   "outputs": [],
   "source": [
    "# 17. Write a Python program to demonstrate the usage of Method Resolution Order (MRO) in multiplelevels\n",
    "# of Inheritances.\n",
    "class A:\n",
    "    def greet(self):\n",
    "        print(\"Hello from class A\")\n",
    "\n",
    "class B(A):\n",
    "    def greet(self):\n",
    "        print(\"Hello from class B\")\n",
    "        super().greet()\n",
    "\n",
    "class C(B):\n",
    "    def greet(self):\n",
    "        print(\"Hello from class C\")\n",
    "        super().greet()\n",
    "\n",
    "obj = C()\n",
    "obj.greet()\n",
    "\n",
    "# Show MRO of class C\n",
    "print(\"MRO of class C:\", C.__mro__)"
   ]
  },
  {
   "cell_type": "code",
   "execution_count": null,
   "metadata": {
    "id": "AixMkxMNQtDh"
   },
   "outputs": [],
   "source": [
    "# 18. a. Write a function called draw rectangle that takes a Canvas and a Rectangle as arguments anddraws a\n",
    "# representation of the Rectangle on the Canvas.\n",
    "import tkinter as tk\n",
    "\n",
    "# Function to draw a rectangle\n",
    "def draw_rectangle(canvas, rectangle):\n",
    "    x1, y1, x2, y2 = rectangle\n",
    "    canvas.create_rectangle(x1, y1, x2, y2, outline=\"black\", fill=\"blue\")\n",
    "\n",
    "# Example usage\n",
    "root = tk.Tk()\n",
    "canvas = tk.Canvas(root, width=400, height=400)\n",
    "canvas.pack()\n",
    "\n",
    "# Rectangle as (x1, y1, x2, y2)\n",
    "rectangle = (50, 50, 150, 150)\n",
    "\n",
    "draw_rectangle(canvas, rectangle)\n",
    "\n",
    "root.mainloop()"
   ]
  },
  {
   "cell_type": "code",
   "execution_count": null,
   "metadata": {
    "id": "ek7V3p2qRGg_"
   },
   "outputs": [],
   "source": [
    "# b. Add an attribute named color to your Rectangle objects and modify draw_rectangle so that ituses the\n",
    "# color attribute as the fill color.\n",
    "import tkinter as tk\n",
    "\n",
    "# Rectangle class with a color attribute\n",
    "class Rectangle:\n",
    "    def __init__(self, x1, y1, x2, y2, color):\n",
    "        self.x1 = x1\n",
    "        self.y1 = y1\n",
    "        self.x2 = x2\n",
    "        self.y2 = y2\n",
    "        self.color = color\n",
    "\n",
    "# Function to draw a rectangle\n",
    "def draw_rectangle(canvas, rectangle):\n",
    "    canvas.create_rectangle(\n",
    "        rectangle.x1, rectangle.y1, rectangle.x2, rectangle.y2,\n",
    "        outline=\"black\", fill=rectangle.color\n",
    "    )\n",
    "\n",
    "# Example usage\n",
    "root = tk.Tk()\n",
    "canvas = tk.Canvas(root, width=400, height=400)\n",
    "canvas.pack()\n",
    "\n",
    "# Create a Rectangle object with a color attribute\n",
    "rect = Rectangle(50, 50, 150, 150, \"green\")\n",
    "\n",
    "draw_rectangle(canvas, rect)\n",
    "\n",
    "root.mainloop()"
   ]
  },
  {
   "cell_type": "code",
   "execution_count": 7,
   "metadata": {
    "id": "xbqCOqPXRSFl"
   },
   "outputs": [],
   "source": [
    "# c. Write a function called draw point that takes a Canvas and a Point as arguments and draws\n",
    "# a representation of the Point on the Canvas.\n",
    "import tkinter as tk\n",
    "\n",
    "# Point class to represent a point with x, y coordinates\n",
    "class Point:\n",
    "    def __init__(self, x, y):\n",
    "        self.x = x\n",
    "        self.y = y\n",
    "\n",
    "# Function to draw a point on the canvas\n",
    "def draw_point(canvas, point):\n",
    "    canvas.create_oval(\n",
    "        point.x - 2, point.y - 2, point.x + 2, point.y + 2,\n",
    "        outline=\"black\", fill=\"red\"\n",
    "    )\n",
    "\n",
    "# Example usage\n",
    "root = tk.Tk()\n",
    "canvas = tk.Canvas(root, width=400, height=400)\n",
    "canvas.pack()\n",
    "\n",
    "# Create a Point object\n",
    "point = Point(100, 100)\n",
    "\n",
    "# Draw the point on the canvas\n",
    "draw_point(canvas, point)\n",
    "\n",
    "root.mainloop()"
   ]
  },
  {
   "cell_type": "code",
   "execution_count": null,
   "metadata": {
    "id": "079MD2DqRjJB"
   },
   "outputs": [],
   "source": [
    "# 19. Write a python code to read a phone number and email-id from the user and validate it forcorrectness.\n",
    "import re\n",
    "\n",
    "def validate_input():\n",
    "    phone = input(\"Enter phone number: \")\n",
    "    email = input(\"Enter email ID: \")\n",
    "\n",
    "    phone_pattern = re.compile(r'^\\d{10}$|^\\d{3}-\\d{3}-\\d{4}$|^\\d{3}\\.\\d{3}\\.\\d{4}$')\n",
    "    email_pattern = re.compile(r'^[a-zA-Z0-9._%+-]+@[a-zA-Z0-9.-]+\\.[a-zA-Z]{2,}$')\n",
    "\n",
    "    print(f\"Phone Number: {'Valid' if phone_pattern.match(phone) else 'Invalid'}\")\n",
    "    print(f\"Email ID: {'Valid' if email_pattern.match(email) else 'Invalid'}\")\n",
    "\n",
    "\n",
    "if __name__ == \"__main__\":\n",
    "    validate_input()"
   ]
  },
  {
   "cell_type": "code",
   "execution_count": null,
   "metadata": {
    "id": "FGalB4cVR3tq"
   },
   "outputs": [],
   "source": [
    "# 20. Write a Python code to merge two given file contents into a third file.\n",
    "# NOTE: If you want to execute you need to run this code in a local machine by creating a sample folder and some f1 and f2 text files in it.\n",
    "\n",
    "def merge_files(file1, file2, output_file):\n",
    "    with open(file1, 'r') as f1, open(file2, 'r') as f2, open(output_file, 'w') as out:\n",
    "        out.write(f1.read())\n",
    "        out.write(\"\\n\")  # Add a newline between file contents if needed\n",
    "        out.write(f2.read())\n",
    "\n",
    "# Example usage\n",
    "merge_files('file1.txt', 'file2.txt', 'merged_file.txt')"
   ]
  },
  {
   "cell_type": "code",
   "execution_count": null,
   "metadata": {
    "id": "g9AkrfXpSdWU"
   },
   "outputs": [],
   "source": [
    "# 21. Write a Python code to open a given file and construct a function to check for given words present in\n",
    "# it and display on found.\n",
    "# NOTE: If you want to execute you need to run this code in a local machine by creating a sample folder and some f1 and f2 text files in it.\n",
    "\n",
    "def check_words_in_file(file_path, words_to_check):\n",
    "    try:\n",
    "        with open(file_path, 'r') as file:\n",
    "            content = file.read().lower()\n",
    "\n",
    "        found_words = []\n",
    "\n",
    "        for word in words_to_check:\n",
    "            if word.lower() in content:\n",
    "                found_words.append(word)\n",
    "\n",
    "        if found_words:\n",
    "            print(f\"Found the following words: {', '.join(found_words)}\")\n",
    "        else:\n",
    "            print(\"No words found.\")\n",
    "\n",
    "    except FileNotFoundError:\n",
    "        print(\"The specified file was not found.\")\n",
    "    except Exception as e:\n",
    "        print(f\"An error occurred: {e}\")\n",
    "\n",
    "\n",
    "# Example usage\n",
    "file_path = 'file1.txt'\n",
    "words_to_check = ['Learning', 'fun']\n",
    "check_words_in_file(file_path, words_to_check)"
   ]
  },
  {
   "cell_type": "code",
   "execution_count": null,
   "metadata": {
    "id": "UQ3iqVvQSogJ"
   },
   "outputs": [],
   "source": [
    "# 22. Write a Python code to Read text from a text file, find the word with most number of occurrences\n",
    "# NOTE: If you want to execute you need to run this code in a local machine by creating a sample folder and some f1 and f2 text files in it.\n",
    "\n",
    "from collections import Counter\n",
    "\n",
    "def find_most_frequent_word(file_path):\n",
    "    try:\n",
    "        with open(file_path, 'r') as file:\n",
    "            content = file.read().lower()\n",
    "        words = content.split()\n",
    "\n",
    "        word_count = Counter(words)\n",
    "\n",
    "        most_frequent_word, count = word_count.most_common(1)[0]\n",
    "\n",
    "        print(f\"The most frequent word is '{most_frequent_word}' with {count} occurrences.\")\n",
    "\n",
    "    except FileNotFoundError:\n",
    "        print(\"The specified file was not found.\")\n",
    "    except Exception as e:\n",
    "        print(f\"An error occurred: {e}\")\n",
    "\n",
    "# Example usage\n",
    "file_path = 'file2.txt'\n",
    "find_most_frequent_word(file_path)"
   ]
  },
  {
   "cell_type": "code",
   "execution_count": null,
   "metadata": {
    "id": "9IWzGRJ0SwH6"
   },
   "outputs": [],
   "source": [
    "# 23. Write a function that reads a file file1 and displays the number of words, number of vowels,\n",
    "# blank spaces, lower case letters and uppercase letters.\n",
    "# NOTE: If you want to execute you need to run this code in a local machine by creating a sample folder and some f1 and f2 text files in it.\n",
    "\n",
    "def analyze_text_file(file_path):\n",
    "    try:\n",
    "        with open(file_path, 'r') as file:\n",
    "            content = file.read()\n",
    "\n",
    "        num_words = len(content.split())\n",
    "        num_vowels = sum(1 for char in content if char.lower() in 'aeiou')\n",
    "        num_blank_spaces = content.count(' ')\n",
    "        num_lowercase = sum(1 for char in content if char.islower())\n",
    "        num_uppercase = sum(1 for char in content if char.isupper())\n",
    "\n",
    "        print(f\"Number of words: {num_words}\")\n",
    "        print(f\"Number of vowels: {num_vowels}\")\n",
    "        print(f\"Number of blank spaces: {num_blank_spaces}\")\n",
    "        print(f\"Number of lowercase letters: {num_lowercase}\")\n",
    "        print(f\"Number of uppercase letters: {num_uppercase}\")\n",
    "\n",
    "    except FileNotFoundError:\n",
    "        print(\"The specified file was not found.\")\n",
    "    except Exception as e:\n",
    "        print(f\"An error occurred: {e}\")\n",
    "\n",
    "# Example usage\n",
    "file_path = 'merged_file.txt'\n",
    "analyze_text_file(file_path)"
   ]
  },
  {
   "cell_type": "code",
   "execution_count": null,
   "metadata": {
    "id": "-adTFxsiS5V4"
   },
   "outputs": [],
   "source": [
    "#24. Import numpy, Plotpy and Scipy and explore their functionalities.\n",
    "import numpy as np\n",
    "import matplotlib.pyplot as plt\n",
    "from scipy import stats\n",
    "\n",
    "data = np.random.normal(0, 1, 1000)\n",
    "\n",
    "mean = np.mean(data)\n",
    "std_dev = np.std(data)\n",
    "\n",
    "print(f\"Mean: {mean}, Standard Deviation: {std_dev}\")\n",
    "\n",
    "plt.hist(data, bins=5, edgecolor='black')\n",
    "plt.title('Histogram of Generated Data')\n",
    "plt.xlabel('Value')\n",
    "plt.ylabel('Frequency')\n",
    "plt.show()\n",
    "\n",
    "test_statistic, p_value = stats.ttest_1samp(data, 0)\n",
    "print(f\"T-statistic: {test_statistic}, P-value: {p_value}\")"
   ]
  },
  {
   "cell_type": "code",
   "execution_count": null,
   "metadata": {
    "id": "3P0bcO39TEDs"
   },
   "outputs": [],
   "source": [
    "# 25. Install NumPy package with pip and explore it.\n",
    "import numpy as np\n",
    "\n",
    "array = np.array([1, 2, 3, 4, 5])\n",
    "mean = np.mean(array)\n",
    "std_dev = np.std(array)\n",
    "sum_array = np.sum(array)\n",
    "\n",
    "print(f\"Array: {array}\")\n",
    "print(f\"Mean: {mean}\")\n",
    "print(f\"Standard Deviation: {std_dev}\")\n",
    "print(f\"Sum: {sum_array}\")"
   ]
  },
  {
   "cell_type": "code",
   "execution_count": null,
   "metadata": {
    "id": "0CMgb7K8TMtE"
   },
   "outputs": [],
   "source": [
    "#26. Write a program to implement Digital Logic Gates – AND, OR, NOT, EX-OR\n",
    "\n",
    "def AND(a, b):\n",
    "    return a & b\n",
    "\n",
    "def OR(a, b):\n",
    "    return a | b\n",
    "\n",
    "def NOT(a):\n",
    "    return ~a\n",
    "\n",
    "def XOR(a, b):\n",
    "    return a ^ b\n",
    "\n",
    "a, b = 1, 0\n",
    "print(f\"AND({a}, {b}) = {AND(a, b)}\")\n",
    "print(f\"OR({a}, {b}) = {OR(a, b)}\")\n",
    "print(f\"NOT({a}) = {NOT(a & 1)}\")  # Only one bit, hence a & 1\n",
    "print(f\"XOR({a}, {b}) = {XOR(a, b)}\")"
   ]
  },
  {
   "cell_type": "code",
   "execution_count": null,
   "metadata": {
    "id": "kA04hRRUTXzs"
   },
   "outputs": [],
   "source": [
    "#27. Write a program to implement Half Adder, Full Adder, and Parallel Adder\n",
    "\n",
    "def half_adder(a, b):\n",
    "    sum = a ^ b\n",
    "    carry = a & b\n",
    "    return sum, carry\n",
    "\n",
    "def full_adder(a, b, carry_in):\n",
    "    sum1, carry1 = half_adder(a, b)\n",
    "    sum2, carry2 = half_adder(sum1, carry_in)\n",
    "    carry_out = carry1 | carry2\n",
    "    return sum2, carry_out\n",
    "\n",
    "def parallel_adder(a, b):\n",
    "    n = max(len(a), len(b))\n",
    "    a = a.zfill(n)\n",
    "    b = b.zfill(n)\n",
    "    carry = 0\n",
    "    sum_result = \"\"\n",
    "\n",
    "    for i in range(n-1, -1, -1):\n",
    "        s, carry = full_adder(int(a[i]), int(b[i]), carry)\n",
    "        sum_result = str(s) + sum_result\n",
    "\n",
    "    if carry:\n",
    "        sum_result = \"1\" + sum_result\n",
    "\n",
    "    return sum_result\n",
    "\n",
    "a = \"1101\"\n",
    "b = \"1011\"\n",
    "print(\"Half Adder (1, 0): \", half_adder(1, 0))\n",
    "print(\"Full Adder (1, 1, 0): \", full_adder(1, 1, 0))\n",
    "print(\"Parallel Adder ({} + {}): {}\".format(a, b, parallel_adder(a, b)))"
   ]
  },
  {
   "cell_type": "code",
   "execution_count": null,
   "metadata": {
    "id": "TUWtdFsQTaKw"
   },
   "outputs": [],
   "source": [
    "# 28. Writes a recursive function that generates all binary strings of n-bit length\n",
    "\n",
    "def generate_binary_strings(n, result=\"\"):\n",
    "    if n == 0:\n",
    "        print(result)\n",
    "    else:\n",
    "        generate_binary_strings(n - 1, result + \"0\")\n",
    "        generate_binary_strings(n - 1, result + \"1\")\n",
    "\n",
    "# Example usage\n",
    "n = 3\n",
    "generate_binary_strings(n)"
   ]
  },
  {
   "cell_type": "code",
   "execution_count": null,
   "metadata": {
    "id": "JnxxgGlnTqKM"
   },
   "outputs": [],
   "source": [
    "# 29. Write a program to find common values between two arrays.\n",
    "\n",
    "def find_common_values(arr1, arr2):\n",
    "    return list(set(arr1) & set(arr2))\n",
    "\n",
    "# Example usage\n",
    "arr1 = [1, 2, 3, 4, 5]\n",
    "arr2 = [3, 4, 5, 6, 7]\n",
    "print(find_common_values(arr1, arr2))"
   ]
  },
  {
   "cell_type": "code",
   "execution_count": 1,
   "metadata": {
    "id": "e44VCXioT6KG"
   },
   "outputs": [],
   "source": [
    "# 30. Define a new class called Circle with appropriate attributes and instantiate a few Circle objects. Write a\n",
    "# function called draw_circle that draws circles on the canvas\n",
    "\n",
    "import turtle\n",
    "\n",
    "class Circle:\n",
    "    def __init__(self, radius, color):\n",
    "        self.radius = radius\n",
    "        self.color = color\n",
    "\n",
    "    def draw_circle(self):\n",
    "        turtle.color(self.color)\n",
    "        turtle.circle(self.radius)\n",
    "\n",
    "# Instantiate Circle objects\n",
    "circle1 = Circle(50, \"blue\")\n",
    "circle2 = Circle(100, \"red\")\n",
    "\n",
    "# Draw the circles\n",
    "turtle.speed(1)  # Set turtle drawing speed\n",
    "circle1.draw_circle()\n",
    "turtle.penup()\n",
    "turtle.setposition(150, 0)  # Move the turtle to a new location\n",
    "turtle.pendown()\n",
    "circle2.draw_circle()\n",
    "\n",
    "# Hide turtle and display the drawing\n",
    "turtle.hideturtle()\n",
    "turtle.done()"
   ]
  },
  {
   "cell_type": "markdown",
   "metadata": {
    "id": "aLP1MSWUUOX6"
   },
   "source": [
    "> Note: Some of the codes may not execute in the cloud (colab), need to execute > it in the local machine (VS Code, pycharm, jupyterLab or any Code Editor).\n",
    "> ⛹\n",
    "`© oms`"
   ]
  }
 ],
 "metadata": {
  "colab": {
   "provenance": []
  },
  "kernelspec": {
   "display_name": "Python 3",
   "language": "python",
   "name": "python3"
  },
  "language_info": {
   "codemirror_mode": {
    "name": "ipython",
    "version": 3
   },
   "file_extension": ".py",
   "mimetype": "text/x-python",
   "name": "python",
   "nbconvert_exporter": "python",
   "pygments_lexer": "ipython3",
   "version": "3.12.4"
  }
 },
 "nbformat": 4,
 "nbformat_minor": 4
}
